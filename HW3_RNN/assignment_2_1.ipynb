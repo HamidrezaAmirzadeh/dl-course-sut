{
 "cells": [
  {
   "cell_type": "markdown",
   "metadata": {
    "colab_type": "text",
    "id": "2hSzcqgzluB8",
    "pycharm": {
     "name": "#%% md\n"
    }
   },
   "source": [
    "# Time Series Prediction"
   ]
  },
  {
   "cell_type": "markdown",
   "metadata": {
    "colab_type": "text",
    "id": "cQoJi3q_I6fg",
    "pycharm": {
     "name": "#%% md\n"
    }
   },
   "source": [
    "Due to the sequential charasteristics of RNNs, they can be used for time series prediction task. A time series is a series of data points indexed in time order. One example of time series is stock prices at regular intervals of time (hourly, daily, etc.). There have been many attempts to forecast stocks market, some belive predicting the market is impossible because of its total random behaviour, while some (mainly stocks technical analysts) belive not 100% accurate, but it is partly predictable, as they say \"history repeats itself\" (this phrase indicates that there might be some repetitive patterns in market's behaviour). \n",
    "\n",
    "In this practice, we are going to discover ourselves whether it is possible or not, whether we are going to be rich or broke :)  "
   ]
  },
  {
   "cell_type": "markdown",
   "metadata": {
    "colab_type": "text",
    "id": "tBLpUtW_5Q9K",
    "pycharm": {
     "name": "#%% md\n"
    }
   },
   "source": [
    "## Stocks Prediction Using LSTM"
   ]
  },
  {
   "cell_type": "markdown",
   "metadata": {
    "colab_type": "text",
    "id": "EfO4ddWV5ZLS",
    "pycharm": {
     "name": "#%% md\n"
    }
   },
   "source": [
    "LSTMs can be used for modeling time series (such as stocks market) as they are capable of remembering past information. Stock price prediction is similar to any other machine learning problem where we are given a set of features and we have to predict a corresponding value, in this case our features are the closing prices of stocks in the past 60 days and we want to predict next closing price. We can use LSTM to model this 60 days sequence by a hidden state as we do in all other sequence modeling problems:\n",
    "\n",
    "<p align=\"center\"><img src=\"https://drive.google.com/thumbnail?id=1hml7fG9_GKDLH1068Wq_Jk-D09FtQk17&sz=w1000-h1000\" width=\"800\"/></p>\n",
    "\n",
    "</br>\n",
    "\n",
    "We are going to solve these two following problems:\n",
    "* 1 . Predicting the exact price at time $T_i$ given prices at times $T_{i-60}$, ..., $T_{i-1}$\n",
    "\n",
    "* 2 . A simplified version of previous problem, predicting the direction of price at time $T_i$ (whether it is increasing or decreasing) given prices at times $T_{i-60}$, ..., $T_{i-1}$\n",
    "\n",
    "\n",
    "So the first task is a regression and the second one is a classification problem.\n"
   ]
  },
  {
   "cell_type": "markdown",
   "metadata": {
    "colab_type": "text",
    "id": "JI0Ub0KuK0wG",
    "pycharm": {
     "name": "#%% md\n"
    }
   },
   "source": [
    "### 1. Predicting The Exact Price"
   ]
  },
  {
   "cell_type": "markdown",
   "metadata": {
    "colab_type": "text",
    "id": "LSNVvB-apMAr",
    "pycharm": {
     "name": "#%% md\n"
    }
   },
   "source": [
    "**DATA:**\n",
    "\n",
    "The data that we are going to use are from ***Yahoo Finance*** (a place to look up stock market data and company news). We can accsess historical market data from *Yahoo Finance* using python ***yfinance*** module. \n",
    "\n",
    "Let's install *yfinance* module first:"
   ]
  },
  {
   "cell_type": "code",
   "execution_count": 6,
   "metadata": {
    "colab": {},
    "colab_type": "code",
    "id": "_zYyq0SlbY_a",
    "pycharm": {
     "name": "#%%\n"
    }
   },
   "outputs": [],
   "source": [
    "from IPython.display import clear_output\n",
    "\n",
    "# !pip install yfinance\n",
    "\n",
    "clear_output()"
   ]
  },
  {
   "cell_type": "markdown",
   "metadata": {
    "colab_type": "text",
    "id": "9wAwSxCbbWlt",
    "pycharm": {
     "name": "#%% md\n"
    }
   },
   "source": [
    "For training our algorithm, we will be using the Apple stock prices from 1st January 2014 to 1st January 2018. In order to evaluate the performance of the algorithm, we will be using the prices from 1st January 2018 to 1st January 2019. \n",
    "\n",
    "Let's get the data and visualise it:"
   ]
  },
  {
   "cell_type": "code",
   "execution_count": 7,
   "metadata": {
    "colab": {
     "base_uri": "https://localhost:8080/",
     "height": 281
    },
    "colab_type": "code",
    "id": "U2Q70Xcr3nNR",
    "outputId": "d6b68bfd-b47d-4aeb-8ac8-6d4647a3a58b",
    "pycharm": {
     "is_executing": true,
     "name": "#%%\n"
    }
   },
   "outputs": [
    {
     "data": {
      "image/png": "[encoded data removed]",
      "text/plain": [
       "<Figure size 432x288 with 1 Axes>"
      ]
     },
     "metadata": {
      "needs_background": "light"
     },
     "output_type": "display_data"
    }
   ],
   "source": [
    "\n",
    "import matplotlib.pyplot as plt\n",
    "import yfinance as yf  \n",
    "\n",
    "train_data = yf.download('AAPL','2014-01-01','2018-01-01')\n",
    "test_data = yf.download('AAPL','2018-01-01','2019-01-01')\n",
    "\n",
    "train_data.Close.plot()\n",
    "test_data.Close.plot()\n",
    "plt.legend ([\"Train\", \"Test\"])\n",
    "\n",
    "clear_output()\n",
    "plt.show()"
   ]
  },
  {
   "cell_type": "markdown",
   "metadata": {
    "colab_type": "text",
    "id": "AIIDgdQfcSK3",
    "pycharm": {
     "name": "#%% md\n"
    }
   },
   "source": [
    "As you can see our data is just a sequence of numbers ordered by time. \n",
    "\n",
    "In order to normalize our data we scale them between 0 and 1: "
   ]
  },
  {
   "cell_type": "code",
   "execution_count": 8,
   "metadata": {
    "colab": {
     "base_uri": "https://localhost:8080/",
     "height": 54
    },
    "colab_type": "code",
    "id": "8ge5thz254Kf",
    "outputId": "5e3d22e6-5386-4205-86ff-bc1c57400ee2",
    "pycharm": {
     "is_executing": true,
     "name": "#%%\n"
    }
   },
   "outputs": [
    {
     "name": "stdout",
     "output_type": "stream",
     "text": [
      "train_scaled.shape : (1007, 1)\n",
      "test_scaled.shape : (251, 1)\n"
     ]
    }
   ],
   "source": [
    "from sklearn.preprocessing import MinMaxScaler \n",
    "import numpy as np\n",
    "scaler = MinMaxScaler(feature_range = (0, 1)).fit(train_data.Close.values.reshape(-1, 1))\n",
    "\n",
    "train_scaled = scaler.transform(train_data.Close.values.reshape(-1, 1))\n",
    "test_scaled = scaler.transform(test_data.Close.values.reshape(-1, 1))  \n",
    "\n",
    "print (\"train_scaled.shape :\", train_scaled.shape)\n",
    "print (\"test_scaled.shape :\", test_scaled.shape)"
   ]
  },
  {
   "cell_type": "markdown",
   "metadata": {
    "colab_type": "text",
    "id": "_9M3_Ch_eRFx",
    "pycharm": {
     "name": "#%% md\n"
    }
   },
   "source": [
    "Now we create our input output pairs from our sequence:"
   ]
  },
  {
   "cell_type": "code",
   "execution_count": 9,
   "metadata": {
    "colab": {},
    "colab_type": "code",
    "id": "NOs8KBcj6mpG",
    "pycharm": {
     "name": "#%%\n"
    }
   },
   "outputs": [],
   "source": [
    "train_features_set = []  \n",
    "train_labels = []  \n",
    "for i in range(60, train_scaled.shape[0]):  \n",
    "    train_features_set.append(train_scaled[i-60:i, 0])\n",
    "    train_labels.append(train_scaled[i, 0])"
   ]
  },
  {
   "cell_type": "markdown",
   "metadata": {
    "colab_type": "text",
    "id": "zWmPH1aqfdzH",
    "pycharm": {
     "name": "#%% md\n"
    }
   },
   "source": [
    "We need to convert these lists to the numpy arrays before we can use them for training. Then in order to train LSTM on our data, we need to convert our data into the shape accepted by the LSTM. We need to convert our data into three-dimensional format. The first dimension is the number of records or rows in the dataset which is 1007 in our case. The second dimension is the number of time steps which is 60 while the last dimension is the number of indicators. Since we are only using one feature, i.e Closing price, the number of indicators will be one."
   ]
  },
  {
   "cell_type": "code",
   "execution_count": 10,
   "metadata": {
    "colab": {},
    "colab_type": "code",
    "id": "bVh8Igbrfw8L",
    "pycharm": {
     "name": "#%%\n"
    }
   },
   "outputs": [],
   "source": [
    "train_features_set, train_labels = np.array(train_features_set), np.array(train_labels)\n",
    "train_features_set = np.reshape(train_features_set, (train_features_set.shape[0], train_features_set.shape[1], 1))"
   ]
  },
  {
   "cell_type": "markdown",
   "metadata": {
    "colab_type": "text",
    "id": "tI8HP9NqiYzv",
    "pycharm": {
     "name": "#%% md\n"
    }
   },
   "source": [
    "Now let's create and train a simple model, our model has a stack of 4 lstm layers and a single output layer: "
   ]
  },
  {
   "cell_type": "code",
   "execution_count": 11,
   "metadata": {
    "colab": {},
    "colab_type": "code",
    "id": "H0UHr-Ef8pHr",
    "pycharm": {
     "name": "#%%\n"
    }
   },
   "outputs": [],
   "source": [
    "from keras.models import Sequential  \n",
    "from keras.layers import Dense  \n",
    "from keras.layers import LSTM  \n",
    "from keras.layers import Dropout  \n",
    "\n",
    "model = Sequential()\n",
    "model.add(LSTM(units=50, return_sequences=True, input_shape=(train_features_set.shape[1], 1)))\n",
    "model.add(Dropout(0.2))\n",
    "\n",
    "model.add(LSTM(units=50, return_sequences=True))  \n",
    "model.add(Dropout(0.2))\n",
    "\n",
    "model.add(LSTM(units=50, return_sequences=True))  \n",
    "model.add(Dropout(0.2))\n",
    "\n",
    "model.add(LSTM(units=50))  \n",
    "model.add(Dropout(0.2))\n",
    "\n",
    "# we have a single output so this layer has 1 unit\n",
    "model.add(Dense(units = 1))\n",
    "\n",
    "model.compile(optimizer = 'adam', loss = 'mean_squared_error')\n",
    "\n",
    "model.fit(train_features_set, train_labels, epochs = 100, batch_size = 30)\n",
    "\n",
    "clear_output()"
   ]
  },
  {
   "cell_type": "markdown",
   "metadata": {
    "colab_type": "text",
    "id": "6n8LuRDDqKkL",
    "pycharm": {
     "name": "#%% md\n"
    }
   },
   "source": [
    "Now we create our test features set similar to what we did with our training set:"
   ]
  },
  {
   "cell_type": "code",
   "execution_count": 12,
   "metadata": {
    "colab": {},
    "colab_type": "code",
    "id": "8_Z0-AoCqZwV",
    "pycharm": {
     "name": "#%%\n"
    }
   },
   "outputs": [],
   "source": [
    "test_scaled = scaler.transform(test_data.Close.values.reshape(-1, 1))  \n",
    "\n",
    "test_features_set = []  \n",
    "for i in range(60, test_scaled.shape[0]):  \n",
    "    test_features_set.append(test_scaled[i-60:i, 0])\n",
    "    \n",
    "test_features_set = np.array(test_features_set)  \n",
    "test_features_set = np.reshape(test_features_set, (test_features_set.shape[0], test_features_set.shape[1], 1))"
   ]
  },
  {
   "cell_type": "markdown",
   "metadata": {
    "colab_type": "text",
    "id": "19NNvTHHqsdH",
    "pycharm": {
     "name": "#%% md\n"
    }
   },
   "source": [
    "And finaly let's see the results:"
   ]
  },
  {
   "cell_type": "code",
   "execution_count": 13,
   "metadata": {
    "colab": {
     "base_uri": "https://localhost:8080/",
     "height": 281
    },
    "colab_type": "code",
    "id": "nU6kKlck-UAL",
    "outputId": "c8ae8f5f-7351-450b-acf8-4802f5d48076",
    "pycharm": {
     "is_executing": true,
     "name": "#%%\n"
    }
   },
   "outputs": [
    {
     "name": "stdout",
     "output_type": "stream",
     "text": [
      "6/6 [==============================] - 2s 77ms/step\n"
     ]
    },
    {
     "data": {
      "image/png": "[encoded data removed]",
      "text/plain": [
       "<Figure size 864x432 with 1 Axes>"
      ]
     },
     "metadata": {
      "needs_background": "light"
     },
     "output_type": "display_data"
    }
   ],
   "source": [
    "predictions = model.predict(test_features_set)\n",
    "predictions = scaler.inverse_transform(predictions)  \n",
    "  \n",
    "plt.figure(figsize=(12,6))\n",
    "plt.plot(test_data.Close.values[60:], color='blue', label='Actual Apple Stock Price')  \n",
    "plt.plot(predictions , color='red', label='Predicted Apple Stock Price')  \n",
    "plt.title('Apple Stock Price Prediction on Test Set')    \n",
    "plt.ylabel('Apple Stock Price')  \n",
    "plt.legend()  \n",
    "plt.show()"
   ]
  },
  {
   "attachments": {},
   "cell_type": "markdown",
   "metadata": {
    "colab_type": "text",
    "id": "Ujgd8pNxre8D",
    "pycharm": {
     "name": "#%% md\n"
    }
   },
   "source": [
    "* At first sight, it seems the predictions are following  pretty well the actual trends. What do you think about the result? Are you willing to risk using this predictions in real world? "
   ]
  },
  {
   "attachments": {},
   "cell_type": "markdown",
   "metadata": {
    "colab_type": "text",
    "id": "stxlKK1utSvU",
    "pycharm": {
     "name": "#%% md\n"
    }
   },
   "source": [
    "*No. Although it follows the actual trend but it has some delay to detect the trend.\n",
    "for example in the first valley of plot, it first predicted the increasing trend but the actual trend was opposite and after it saw the first data which had decreasing trend, it tried to adopt to it.*"
   ]
  },
  {
   "cell_type": "markdown",
   "metadata": {
    "colab_type": "text",
    "id": "zzlrh1NHtdnS",
    "pycharm": {
     "name": "#%% md\n"
    }
   },
   "source": [
    "### 2. Predicting The Direction"
   ]
  },
  {
   "cell_type": "markdown",
   "metadata": {
    "colab_type": "text",
    "id": "VHLBKZxXtpOP",
    "pycharm": {
     "name": "#%% md\n"
    }
   },
   "source": [
    "Previous model can be evaluated  just visually. We can evaluate a classification task using its special measures (such as f-score or accuracy) much better than a regression task. So in order to finaly decide whether the stocks market prediction is practical or not, we define this second task.\n",
    "\n",
    "Implement a model similar to previous one, this time the task is to predict whether the price is going to increase or decrease (output will be either 1 or 0 respectively) at time $T_i$ given prices at times $T_{i-60}$, ..., $T_{i-1}$ :"
   ]
  },
  {
   "cell_type": "code",
   "execution_count": 14,
   "metadata": {
    "colab": {},
    "colab_type": "code",
    "id": "9a9C84JpuUiV",
    "pycharm": {
     "name": "#%%\n"
    }
   },
   "outputs": [],
   "source": [
    "train_dir_labels = []\n",
    "for i in range(60, train_scaled.shape[0]): \n",
    "    if(train_scaled[i]>train_scaled[i-1]):\n",
    "        train_dir_labels.append(1)\n",
    "    else:\n",
    "        train_dir_labels.append(0)\n",
    "train_dir_labels = np.array(train_dir_labels).reshape(-1, 1)\n",
    "########################################\n",
    "\n",
    "model = Sequential()\n",
    "model.add(LSTM(units=50, activation = 'relu', return_sequences=True, input_shape=(train_features_set.shape[1], 1)))\n",
    "model.add(Dropout(0.2))\n",
    "\n",
    "model.add(LSTM(units=50, return_sequences=True, activation = 'relu'))  \n",
    "model.add(Dropout(0.2))\n",
    "\n",
    "model.add(LSTM(units=50, return_sequences=True,  activation = 'relu'))  \n",
    "model.add(Dropout(0.2))\n",
    "\n",
    "model.add(LSTM(units=50, activation = 'relu'))  \n",
    "model.add(Dropout(0.2))\n",
    "\n",
    "model.add(Dense(units = 1, activation='sigmoid'))\n",
    "\n",
    "model.compile(optimizer = 'adam', loss = 'binary_crossentropy', metrics=['accuracy'])\n",
    "\n",
    "model.fit(train_features_set, train_dir_labels, epochs = 100, batch_size = 30)\n",
    "\n",
    "clear_output()\n",
    "\n",
    "########################################"
   ]
  },
  {
   "cell_type": "markdown",
   "metadata": {
    "colab_type": "text",
    "id": "FhvzyKn_ucd0",
    "pycharm": {
     "name": "#%% md\n"
    }
   },
   "source": [
    "Evaluate your trained model using the test set and report accuracy and f1-score your model archived: "
   ]
  },
  {
   "cell_type": "code",
   "execution_count": 15,
   "metadata": {
    "colab": {},
    "colab_type": "code",
    "id": "NW-MGFhgu4Lk",
    "pycharm": {
     "name": "#%%\n"
    }
   },
   "outputs": [
    {
     "name": "stdout",
     "output_type": "stream",
     "text": [
      "6/6 [==============================] - 1s 32ms/step\n",
      "6/6 [==============================] - 1s 31ms/step - loss: 0.6930 - accuracy: 0.5340\n",
      "f1-score: [0.69624573]\n"
     ]
    }
   ],
   "source": [
    "########################################\n",
    "\n",
    "test_dir_labels=[]\n",
    "for i in range(60, test_scaled.shape[0]): \n",
    "    if(test_scaled[i]>test_scaled[i-1]):\n",
    "        test_dir_labels.append(1)\n",
    "    else:\n",
    "        test_dir_labels.append(0)\n",
    "test_dir_labels = np.array(test_dir_labels).reshape(-1, 1)\n",
    "\n",
    "predictions = model.predict(test_features_set)\n",
    "\n",
    "predictions = np.floor(predictions*2)\n",
    "\n",
    "acc = model.evaluate(test_features_set, test_dir_labels)\n",
    "TP = sum(np.multiply(predictions,test_dir_labels))\n",
    "FP = sum(np.multiply(predictions,1-test_dir_labels))\n",
    "FN = sum(np.multiply(1-predictions,test_dir_labels))\n",
    "\n",
    "p = TP/(TP+FP)\n",
    "r = TP/(TP+FN)\n",
    "f = 2*p*r/(p+r)\n",
    "print('f1-score:', f)\n",
    "\n",
    "########################################"
   ]
  },
  {
   "cell_type": "markdown",
   "metadata": {
    "colab_type": "text",
    "id": "DaFxn4MR_4-4",
    "pycharm": {
     "name": "#%% md\n"
    }
   },
   "source": [
    "Do not worry if your results are not as promising as before :))\n",
    "* Comparing new results with previuos ones, why do you think this happens? Doesn't this task supposed to be an easier version of the previous one (if you are able to predict the actual price, you are already able to predict the direction of price trend)? Explain your toughts:\n"
   ]
  },
  {
   "attachments": {},
   "cell_type": "markdown",
   "metadata": {
    "colab_type": "text",
    "id": "byIh3cwmBLt9",
    "pycharm": {
     "name": "#%% md\n"
    }
   },
   "source": [
    "*As we discussed earlier, the model predictions have some dealy so it is evident that the classification acuuracy has lower acuracy than we expected.*"
   ]
  },
  {
   "cell_type": "markdown",
   "metadata": {
    "colab_type": "text",
    "id": "v-ekiL12B6th",
    "pycharm": {
     "name": "#%% md\n"
    }
   },
   "source": [
    "* Intuitively explain what kind of properties do you think a time series need to have in order to be predictable? "
   ]
  },
  {
   "attachments": {},
   "cell_type": "markdown",
   "metadata": {
    "colab_type": "text",
    "id": "uAtpWmGFEIG4",
    "pycharm": {
     "name": "#%% md\n"
    }
   },
   "source": [
    "*Trends / Seasonal or Nonseasonal cycles*"
   ]
  }
 ],
 "metadata": {
  "accelerator": "GPU",
  "colab": {
   "collapsed_sections": [],
   "name": "assignment_05.ipynb",
   "provenance": [],
   "toc_visible": true,
   "version": "0.3.2"
  },
  "kernelspec": {
   "display_name": "Python 3.10.6 64-bit",
   "language": "python",
   "name": "python3"
  },
  "language_info": {
   "codemirror_mode": {
    "name": "ipython",
    "version": 3
   },
   "file_extension": ".py",
   "mimetype": "text/x-python",
   "name": "python",
   "nbconvert_exporter": "python",
   "pygments_lexer": "ipython3",
   "version": "3.10.6"
  },
  "vscode": {
   "interpreter": {
    "hash": "916dbcbb3f70747c44a77c7bcd40155683ae19c65e1c03b4aa3499c5328201f1"
   }
  }
 },
 "nbformat": 4,
 "nbformat_minor": 0
}
